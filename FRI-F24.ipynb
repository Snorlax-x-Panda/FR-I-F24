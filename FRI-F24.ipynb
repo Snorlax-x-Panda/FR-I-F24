{
 "cells": [
  {
   "cell_type": "markdown",
   "metadata": {},
   "source": [
    "<b><h1 style=\"margin-bottom:-2px;text-align:center;\">Facial Recognition and Identification for ABC</h1></b>\n",
    "<p style=\"text-align:center;\">\n",
    "Final Project  - Synopsis <br>\n",
    "By: Alireza Akramian Arani, Damien Liscio, Garnett Grant, James Yan, Jordi Llobet Ferre <br>\n",
    "Professor: Vijayalakshmi Tiruchengode Angamuthu <br>\n",
    "Centennial College - F24 - COMP257 - SEC.402 - Group 4<br>\n",
    "</p>"
   ]
  },
  {
   "cell_type": "markdown",
   "metadata": {},
   "source": [
    "<b><h2 style=\"margin-bottom:0px;\">Description</h2></b>\n",
    "In this Project, We have been approached by a law enforcement security company ABC that would like to incorporate facial recognition and identification into their system. ABC has provided our team with the <a href=\"https://cs.nyu.edu/~roweis/data/umist_cropped.mat\"><u>umist_cropped.mat</u></a> dataset to train our system "
   ]
  },
  {
   "cell_type": "code",
   "execution_count": 30,
   "metadata": {},
   "outputs": [],
   "source": [
    "import scipy.io as sio  # for loading matlab files\n",
    "import numpy as np\n",
    "import pandas as pd\n",
    "import matplotlib.pyplot as plt\n",
    "import seaborn as sns\n",
    "\n",
    "from sklearn.cluster import KMeans\n",
    "from sklearn.model_selection import train_test_split\n",
    "from sklearn.decomposition import PCA\n",
    "from sklearn.metrics import accuracy_score, precision_score, recall_score, f1_score, confusion_matrix, silhouette_score\n",
    "from sklearn.preprocessing import StandardScaler\n",
    "from sklearn.pipeline import Pipeline\n",
    "\n",
    "import tensorflow as tf \n",
    "from tensorflow.keras.models import Sequential\n",
    "from tensorflow.keras.layers import Input, Dense\n",
    "\n",
    "import warnings"
   ]
  },
  {
   "cell_type": "code",
   "execution_count": 31,
   "metadata": {},
   "outputs": [],
   "source": [
    "warnings.filterwarnings(\"ignore\", message=\"KMeans is known to have a memory leak on Windows with MKL\")"
   ]
  },
  {
   "cell_type": "markdown",
   "metadata": {},
   "source": [
    "<b><h2 style=\"margin-bottom:0px;\">Training</h2></b>\n",
    "1. Split the training set, a validation set, and a test set using stratified sampling to ensure that there are the same number of images per person in each set. Provide your rationale for the split ratio"
   ]
  },
  {
   "cell_type": "markdown",
   "metadata": {},
   "source": [
    "<h3>Function - Organize Data and Flatten in Dataframe</h3>"
   ]
  },
  {
   "cell_type": "markdown",
   "metadata": {},
   "source": [
    "<b>Data from Supported Documentation</b>\n",
    "* Link - https://cs.nyu.edu/~roweis/data.html\n",
    "* Grayscale Faces - 8 bit [0-255]\n",
    "* 20 Different People\n",
    "* 575 Total Images\n",
    "* Size - 112 x 92\n",
    "\n",
    "\n",
    "<b>Findings/Notes in Data Exploration</b>\n",
    "* Dictionary When Loading\n",
    "    * \"dirname\" - classification per group of images\n",
    "    * \"facedat\" - groups of images per person\n",
    "* Values Stored/Wrapped in Object Array\n",
    "    * Third Value in Shapes Represent Instances of Image per Person\n",
    "* Classification Values are String Values; Converted to Numerical Values for Efficiency/Simplicity\n",
    "* Flattened Data Feature Length - 10304 (112 x 92)\n",
    "* Converted Data to Dataframe for Clarity\n",
    "* Appended Numerical Classification to Dataframe - \"target\"\n"
   ]
  },
  {
   "cell_type": "code",
   "execution_count": 3,
   "metadata": {},
   "outputs": [],
   "source": [
    "def organizeData(file_path):\n",
    "    \n",
    "    # Import Data\n",
    "    dataset = sio.loadmat(file_path)\n",
    "    \n",
    "    # Seperate Data (class/face position) \n",
    "    classification = dataset['dirnames']\n",
    "    face_data = dataset['facedat']\n",
    "    \n",
    "    # Transform Classifications to Numerical\n",
    "    for i in range(len(classification[0])):\n",
    "        classification[0][i] = i\n",
    "    \n",
    "    # Create an empty list to append to dataframe later on\n",
    "    face_data_list = []\n",
    "    class_list = []\n",
    "    \n",
    "    \n",
    "    # Grab Image and Classification Per Person\n",
    "    for person_i in range(len(face_data[0])):                                                  # [0] -> Index to Get First Row to Access Data Directly\n",
    "        print(\"==============================================================\")\n",
    "        print(f\"Number of Images for Person {person_i}: {face_data[0][person_i].shape[2]}\")                                                     \n",
    "        \n",
    "        for face_i in range(face_data[0][person_i].shape[2]):                                     \n",
    "            # Verification and Visualization\n",
    "            \"\"\"\n",
    "            print(face_data[0][person_i][:, :, face_i].shape)\n",
    "            plt.imshow(face_data[0][person_i][:, :, face_i])\n",
    "            plt.xticks([])\n",
    "            plt.yticks([])\n",
    "            plt.show()\n",
    "            \"\"\"\n",
    "            # Append Data\n",
    "            face_data_list.append(face_data[0][person_i][:, :, face_i].reshape(-1))             # Append Face Pics in Single Line\n",
    "            class_list.append(str(classification[0][person_i]))                                 # Append Numerical Class Per Person\n",
    "\n",
    "    \n",
    "    data_org = pd.DataFrame(face_data_list)\n",
    "    data_org['target'] = class_list\n",
    "\n",
    "    return data_org"
   ]
  },
  {
   "cell_type": "code",
   "execution_count": 4,
   "metadata": {},
   "outputs": [
    {
     "name": "stdout",
     "output_type": "stream",
     "text": [
      "==============================================================\n",
      "Number of Images for Person 0: 38\n",
      "==============================================================\n",
      "Number of Images for Person 1: 35\n",
      "==============================================================\n",
      "Number of Images for Person 2: 26\n",
      "==============================================================\n",
      "Number of Images for Person 3: 24\n",
      "==============================================================\n",
      "Number of Images for Person 4: 26\n",
      "==============================================================\n",
      "Number of Images for Person 5: 23\n",
      "==============================================================\n",
      "Number of Images for Person 6: 19\n",
      "==============================================================\n",
      "Number of Images for Person 7: 22\n",
      "==============================================================\n",
      "Number of Images for Person 8: 20\n",
      "==============================================================\n",
      "Number of Images for Person 9: 32\n",
      "==============================================================\n",
      "Number of Images for Person 10: 34\n",
      "==============================================================\n",
      "Number of Images for Person 11: 34\n",
      "==============================================================\n",
      "Number of Images for Person 12: 26\n",
      "==============================================================\n",
      "Number of Images for Person 13: 30\n",
      "==============================================================\n",
      "Number of Images for Person 14: 19\n",
      "==============================================================\n",
      "Number of Images for Person 15: 26\n",
      "==============================================================\n",
      "Number of Images for Person 16: 26\n",
      "==============================================================\n",
      "Number of Images for Person 17: 33\n",
      "==============================================================\n",
      "Number of Images for Person 18: 48\n",
      "==============================================================\n",
      "Number of Images for Person 19: 34\n"
     ]
    },
    {
     "data": {
      "text/html": [
       "<div>\n",
       "<style scoped>\n",
       "    .dataframe tbody tr th:only-of-type {\n",
       "        vertical-align: middle;\n",
       "    }\n",
       "\n",
       "    .dataframe tbody tr th {\n",
       "        vertical-align: top;\n",
       "    }\n",
       "\n",
       "    .dataframe thead th {\n",
       "        text-align: right;\n",
       "    }\n",
       "</style>\n",
       "<table border=\"1\" class=\"dataframe\">\n",
       "  <thead>\n",
       "    <tr style=\"text-align: right;\">\n",
       "      <th></th>\n",
       "      <th>0</th>\n",
       "      <th>1</th>\n",
       "      <th>2</th>\n",
       "      <th>3</th>\n",
       "      <th>4</th>\n",
       "      <th>5</th>\n",
       "      <th>6</th>\n",
       "      <th>7</th>\n",
       "      <th>8</th>\n",
       "      <th>9</th>\n",
       "      <th>...</th>\n",
       "      <th>10295</th>\n",
       "      <th>10296</th>\n",
       "      <th>10297</th>\n",
       "      <th>10298</th>\n",
       "      <th>10299</th>\n",
       "      <th>10300</th>\n",
       "      <th>10301</th>\n",
       "      <th>10302</th>\n",
       "      <th>10303</th>\n",
       "      <th>target</th>\n",
       "    </tr>\n",
       "  </thead>\n",
       "  <tbody>\n",
       "    <tr>\n",
       "      <th>0</th>\n",
       "      <td>233</td>\n",
       "      <td>234</td>\n",
       "      <td>234</td>\n",
       "      <td>233</td>\n",
       "      <td>234</td>\n",
       "      <td>232</td>\n",
       "      <td>232</td>\n",
       "      <td>168</td>\n",
       "      <td>99</td>\n",
       "      <td>78</td>\n",
       "      <td>...</td>\n",
       "      <td>154</td>\n",
       "      <td>151</td>\n",
       "      <td>147</td>\n",
       "      <td>143</td>\n",
       "      <td>140</td>\n",
       "      <td>141</td>\n",
       "      <td>141</td>\n",
       "      <td>140</td>\n",
       "      <td>136</td>\n",
       "      <td>0</td>\n",
       "    </tr>\n",
       "    <tr>\n",
       "      <th>1</th>\n",
       "      <td>234</td>\n",
       "      <td>234</td>\n",
       "      <td>234</td>\n",
       "      <td>234</td>\n",
       "      <td>233</td>\n",
       "      <td>232</td>\n",
       "      <td>202</td>\n",
       "      <td>98</td>\n",
       "      <td>79</td>\n",
       "      <td>77</td>\n",
       "      <td>...</td>\n",
       "      <td>154</td>\n",
       "      <td>150</td>\n",
       "      <td>147</td>\n",
       "      <td>141</td>\n",
       "      <td>140</td>\n",
       "      <td>137</td>\n",
       "      <td>138</td>\n",
       "      <td>137</td>\n",
       "      <td>137</td>\n",
       "      <td>0</td>\n",
       "    </tr>\n",
       "    <tr>\n",
       "      <th>2</th>\n",
       "      <td>234</td>\n",
       "      <td>234</td>\n",
       "      <td>234</td>\n",
       "      <td>234</td>\n",
       "      <td>233</td>\n",
       "      <td>230</td>\n",
       "      <td>225</td>\n",
       "      <td>109</td>\n",
       "      <td>85</td>\n",
       "      <td>84</td>\n",
       "      <td>...</td>\n",
       "      <td>174</td>\n",
       "      <td>168</td>\n",
       "      <td>164</td>\n",
       "      <td>157</td>\n",
       "      <td>152</td>\n",
       "      <td>151</td>\n",
       "      <td>148</td>\n",
       "      <td>145</td>\n",
       "      <td>145</td>\n",
       "      <td>0</td>\n",
       "    </tr>\n",
       "    <tr>\n",
       "      <th>3</th>\n",
       "      <td>234</td>\n",
       "      <td>234</td>\n",
       "      <td>234</td>\n",
       "      <td>234</td>\n",
       "      <td>234</td>\n",
       "      <td>234</td>\n",
       "      <td>234</td>\n",
       "      <td>232</td>\n",
       "      <td>229</td>\n",
       "      <td>205</td>\n",
       "      <td>...</td>\n",
       "      <td>168</td>\n",
       "      <td>162</td>\n",
       "      <td>157</td>\n",
       "      <td>155</td>\n",
       "      <td>150</td>\n",
       "      <td>144</td>\n",
       "      <td>144</td>\n",
       "      <td>142</td>\n",
       "      <td>143</td>\n",
       "      <td>0</td>\n",
       "    </tr>\n",
       "    <tr>\n",
       "      <th>4</th>\n",
       "      <td>234</td>\n",
       "      <td>234</td>\n",
       "      <td>234</td>\n",
       "      <td>234</td>\n",
       "      <td>234</td>\n",
       "      <td>234</td>\n",
       "      <td>234</td>\n",
       "      <td>234</td>\n",
       "      <td>229</td>\n",
       "      <td>211</td>\n",
       "      <td>...</td>\n",
       "      <td>176</td>\n",
       "      <td>170</td>\n",
       "      <td>164</td>\n",
       "      <td>162</td>\n",
       "      <td>157</td>\n",
       "      <td>152</td>\n",
       "      <td>150</td>\n",
       "      <td>148</td>\n",
       "      <td>148</td>\n",
       "      <td>0</td>\n",
       "    </tr>\n",
       "  </tbody>\n",
       "</table>\n",
       "<p>5 rows × 10305 columns</p>\n",
       "</div>"
      ],
      "text/plain": [
       "     0    1    2    3    4    5    6    7    8    9  ...  10295  10296  10297  \\\n",
       "0  233  234  234  233  234  232  232  168   99   78  ...    154    151    147   \n",
       "1  234  234  234  234  233  232  202   98   79   77  ...    154    150    147   \n",
       "2  234  234  234  234  233  230  225  109   85   84  ...    174    168    164   \n",
       "3  234  234  234  234  234  234  234  232  229  205  ...    168    162    157   \n",
       "4  234  234  234  234  234  234  234  234  229  211  ...    176    170    164   \n",
       "\n",
       "   10298  10299  10300  10301  10302  10303  target  \n",
       "0    143    140    141    141    140    136       0  \n",
       "1    141    140    137    138    137    137       0  \n",
       "2    157    152    151    148    145    145       0  \n",
       "3    155    150    144    144    142    143       0  \n",
       "4    162    157    152    150    148    148       0  \n",
       "\n",
       "[5 rows x 10305 columns]"
      ]
     },
     "execution_count": 4,
     "metadata": {},
     "output_type": "execute_result"
    }
   ],
   "source": [
    "df_organized = organizeData('umist_cropped.mat')\n",
    "df_organized.head()"
   ]
  },
  {
   "cell_type": "markdown",
   "metadata": {},
   "source": [
    "<h3>Seperate Class and Features</h3>"
   ]
  },
  {
   "cell_type": "code",
   "execution_count": 5,
   "metadata": {},
   "outputs": [],
   "source": [
    "target = df_organized['target']\n",
    "features = df_organized.drop('target', axis=1)"
   ]
  },
  {
   "cell_type": "markdown",
   "metadata": {},
   "source": [
    "<h3>Stratified Split: Train, Val, Test [60/20/20 Split]</h3>"
   ]
  },
  {
   "cell_type": "code",
   "execution_count": 6,
   "metadata": {},
   "outputs": [],
   "source": [
    "x_train, x_test, y_train, y_test = train_test_split(features, target, test_size=0.4, stratify=target, random_state=42)\n",
    "x_val, x_test, y_val, y_test = train_test_split(x_test, y_test, test_size=0.5, stratify=y_test, random_state=42)"
   ]
  },
  {
   "cell_type": "markdown",
   "metadata": {},
   "source": [
    "<b><h2 style=\"margin-bottom:0px;\">Analysis Report</h2></b>\n",
    "\n",
    "2. In the analysis report, discuss the rationale behind how your team preprocess the data. Include the mathematical equations used and any dimensionality reduction applied to the instanced and discuss its relevance to the problem at hand. (Note that your team will receive more points if you perform data preprocessing that help improve the eventual training process.)"
   ]
  },
  {
   "cell_type": "markdown",
   "metadata": {},
   "source": [
    "<h3>PCA Dimensionality Reduction</h3>"
   ]
  },
  {
   "cell_type": "code",
   "execution_count": 7,
   "metadata": {},
   "outputs": [],
   "source": [
    "pca = PCA(n_components=0.99)\n",
    "x_train_red = pca.fit_transform(x_train)\n",
    "x_test_red = pca.transform(x_test)\n",
    "x_val_red = pca.transform(x_val)"
   ]
  },
  {
   "cell_type": "markdown",
   "metadata": {},
   "source": [
    "<h3>Standardize Pixel Values - Not Normalize!</h3>"
   ]
  },
  {
   "cell_type": "code",
   "execution_count": 8,
   "metadata": {
    "editable": true,
    "slideshow": {
     "slide_type": ""
    },
    "tags": []
   },
   "outputs": [],
   "source": [
    "scaler = StandardScaler()\n",
    "x_train_pre = scaler.fit_transform(x_train_red)\n",
    "x_test_pre = scaler.transform(x_test_red)\n",
    "x_val_pre = scaler.transform(x_val_red)"
   ]
  },
  {
   "cell_type": "markdown",
   "metadata": {},
   "source": [
    "<h3>One Hot Encode Labels</h3>"
   ]
  },
  {
   "cell_type": "code",
   "execution_count": 9,
   "metadata": {},
   "outputs": [],
   "source": [
    "one_hot_train = tf.one_hot(y_train, depth=len(y_train.unique()))\n",
    "one_hot_test = tf.one_hot(y_test, depth=len(y_test.unique()))\n",
    "one_hot_val = tf.one_hot(y_val, depth=len(y_val.unique()))"
   ]
  },
  {
   "cell_type": "markdown",
   "metadata": {},
   "source": [
    "<b><h2 style=\"margin-bottom:0px;\">Clustering</h2></b>\n",
    "\n",
    "3. Select a clustering technique taught in this course and apply it on the training instances. Provide the rationale behind your team’s choice of clustering technique and how your team tuned the parameters for the technique implemented. "
   ]
  },
  {
   "cell_type": "markdown",
   "metadata": {},
   "source": [
    "<h3>kMeans - Choosing the Optimal Number of Clusters from Silhouette Score</h3>"
   ]
  },
  {
   "cell_type": "code",
   "execution_count": 10,
   "metadata": {},
   "outputs": [
    {
     "data": {
      "image/png": "[encoded data removed]",
      "text/plain": [
       "<Figure size 640x480 with 1 Axes>"
      ]
     },
     "metadata": {},
     "output_type": "display_data"
    },
    {
     "data": {
      "image/png": "[encoded data removed]",
      "text/plain": [
       "<Figure size 640x480 with 1 Axes>"
      ]
     },
     "metadata": {},
     "output_type": "display_data"
    }
   ],
   "source": [
    "sil_scores = []\n",
    "inertia_scores = []\n",
    "for i in range(2, 21):\n",
    "    kmeans = KMeans(n_clusters=i, random_state=42)\n",
    "    kmeans.fit(x_train_pre)\n",
    "    inertia_scores.append(kmeans.inertia_)\n",
    "    sil_scores.append(silhouette_score(x_train_pre, kmeans.labels_))\n",
    "\n",
    "plt.plot(range(2, 21), sil_scores, '-o')\n",
    "plt.xlabel('Number of Clusters')\n",
    "plt.ylabel('Silhouette Score')\n",
    "plt.title('Silhouette Score vs. Number of Clusters')\n",
    "plt.show()\n",
    "\n",
    "plt.plot(range(2, 21), inertia_scores, '-o')\n",
    "plt.xlabel('Number of Clusters')\n",
    "plt.ylabel('Inertia')\n",
    "plt.title('Inertia Score vs. Number of Clusters')\n",
    "plt.show()"
   ]
  },
  {
   "cell_type": "markdown",
   "metadata": {},
   "source": [
    "<h3>kMeans with Best Number of Clusters</h3>"
   ]
  },
  {
   "cell_type": "code",
   "execution_count": 11,
   "metadata": {},
   "outputs": [
    {
     "name": "stdout",
     "output_type": "stream",
     "text": [
      "Cluster 0: ['0' '1' '10' '11' '12' '13' '14' '15' '16' '17' '18' '19' '2' '3' '4' '5'\n",
      " '6' '7' '8' '9']\n",
      "Number of Images: 297\n",
      "Cluster 1: ['0' '10' '12' '13' '14' '15' '16' '17' '18' '19' '2' '3' '5' '6' '8' '9']\n",
      "Number of Images: 43\n",
      "Cluster 2: ['6' '8' '9']\n",
      "Number of Images: 5\n"
     ]
    }
   ],
   "source": [
    "best_kmeans = KMeans(n_clusters=3, random_state=42)\n",
    "best_kmeans.fit(x_train_pre)\n",
    "\n",
    "for i in range(3):\n",
    "    unique, counts = np.unique(y_train[best_kmeans.labels_ == i], return_counts=True)\n",
    "    print(f\"Cluster {i}: {unique}\\nNumber of Images: {sum(counts)}\")"
   ]
  },
  {
   "cell_type": "markdown",
   "metadata": {},
   "source": [
    "<h3>Feature Engineering - Euclidean Distance from Centroid Features</h3>"
   ]
  },
  {
   "cell_type": "code",
   "execution_count": 12,
   "metadata": {},
   "outputs": [],
   "source": [
    "x_train_k = best_kmeans.transform(x_train_pre)\n",
    "x_test_k = best_kmeans.transform(x_test_pre)\n",
    "x_val_k = best_kmeans.transform(x_val_pre)"
   ]
  },
  {
   "cell_type": "markdown",
   "metadata": {},
   "source": [
    "<h3>Feature Engineering - Assigned Centroid Feature</h3>"
   ]
  },
  {
   "cell_type": "code",
   "execution_count": 13,
   "metadata": {},
   "outputs": [],
   "source": [
    "label_train = best_kmeans.labels_\n",
    "label_test = best_kmeans.predict(x_test_pre)\n",
    "label_val = best_kmeans.predict(x_val_pre)\n",
    "\n",
    "k_train_cl_oh = tf.one_hot(label_train, depth=len(np.unique(label_train)))\n",
    "k_test_cl_oh = tf.one_hot(label_test, depth=len(np.unique(label_train)))\n",
    "k_val_cl_oh = tf.one_hot(label_val, depth=len(np.unique(label_train)))"
   ]
  },
  {
   "cell_type": "markdown",
   "metadata": {},
   "source": [
    "<h3>Concatenate to Get Final Dataset</h3>"
   ]
  },
  {
   "cell_type": "code",
   "execution_count": 14,
   "metadata": {},
   "outputs": [],
   "source": [
    "x_train_transf = np.concatenate((x_train_pre, x_train_k, k_train_cl_oh), axis=1)\n",
    "x_test_transf = np.concatenate((x_test_pre, x_test_k, k_test_cl_oh), axis=1)\n",
    "x_val_transf = np.concatenate((x_val_pre, x_val_k, k_val_cl_oh), axis=1)"
   ]
  },
  {
   "cell_type": "markdown",
   "metadata": {},
   "source": [
    "<b><h2 style=\"margin-bottom:0px;\">Analysis Report - Architecture</h2></b>\n",
    "\n",
    "4. In the analysis report, clearly discuss - with illustrations - the architecture your team has selected for training and predicting the test instances. Discuss the rationale behind your team’s choice of activation functions, loss function, and how you tuned the hyperparameters of the network model."
   ]
  },
  {
   "cell_type": "markdown",
   "metadata": {},
   "source": [
    "<h3>MLP Model w/ Basic Original Dataset</h3>"
   ]
  },
  {
   "cell_type": "code",
   "execution_count": 15,
   "metadata": {},
   "outputs": [
    {
     "name": "stdout",
     "output_type": "stream",
     "text": [
      "WARNING:tensorflow:Please add `keras.layers.InputLayer` instead of `keras.Input` to Sequential model. `keras.Input` is intended to be used by Functional model.\n",
      "Model: \"sequential\"\n",
      "_________________________________________________________________\n",
      "Layer (type)                 Output Shape              Param #   \n",
      "=================================================================\n",
      "dense (Dense)                (None, 128)               27392     \n",
      "_________________________________________________________________\n",
      "dense_1 (Dense)              (None, 64)                8256      \n",
      "_________________________________________________________________\n",
      "dense_2 (Dense)              (None, 20)                1300      \n",
      "=================================================================\n",
      "Total params: 36,948\n",
      "Trainable params: 36,948\n",
      "Non-trainable params: 0\n",
      "_________________________________________________________________\n"
     ]
    }
   ],
   "source": [
    "base_model = Sequential()\n",
    "base_model.add(Input(shape=(x_train_pre.shape[1],)))\n",
    "base_model.add(Dense(128, activation='relu'))\n",
    "base_model.add(Dense(64, activation='relu'))\n",
    "base_model.add(Dense(len(y_train.unique()), activation='softmax'))\n",
    "\n",
    "base_model.compile(optimizer='adam',\n",
    "              loss='categorical_crossentropy',\n",
    "              metrics=['accuracy'])\n",
    "\n",
    "base_model.summary()"
   ]
  },
  {
   "cell_type": "markdown",
   "metadata": {},
   "source": [
    "<h3>MLP Model w/ Feature Engineered Dataset</h3>"
   ]
  },
  {
   "cell_type": "code",
   "execution_count": 16,
   "metadata": {},
   "outputs": [
    {
     "name": "stdout",
     "output_type": "stream",
     "text": [
      "WARNING:tensorflow:Please add `keras.layers.InputLayer` instead of `keras.Input` to Sequential model. `keras.Input` is intended to be used by Functional model.\n",
      "Model: \"sequential_1\"\n",
      "_________________________________________________________________\n",
      "Layer (type)                 Output Shape              Param #   \n",
      "=================================================================\n",
      "dense_3 (Dense)              (None, 128)               28160     \n",
      "_________________________________________________________________\n",
      "dense_4 (Dense)              (None, 64)                8256      \n",
      "_________________________________________________________________\n",
      "dense_5 (Dense)              (None, 20)                1300      \n",
      "=================================================================\n",
      "Total params: 37,716\n",
      "Trainable params: 37,716\n",
      "Non-trainable params: 0\n",
      "_________________________________________________________________\n"
     ]
    }
   ],
   "source": [
    "k_model = Sequential()\n",
    "k_model.add(Input(shape=(x_train_transf.shape[1],)))\n",
    "k_model.add(Dense(128, activation='relu'))\n",
    "k_model.add(Dense(64, activation='relu'))\n",
    "k_model.add(Dense(len(y_train.unique()), activation='softmax'))\n",
    "\n",
    "k_model.compile(optimizer='adam',\n",
    "              loss='categorical_crossentropy',\n",
    "              metrics=['accuracy'])\n",
    "\n",
    "k_model.summary()"
   ]
  },
  {
   "cell_type": "markdown",
   "metadata": {},
   "source": [
    "<b><h2 style=\"margin-bottom:0px;\">Results</h2></b>\n",
    "\n",
    "5. Discuss the results of the trained system in the report."
   ]
  },
  {
   "cell_type": "markdown",
   "metadata": {},
   "source": [
    "<h3>Function for Plotting</h3>"
   ]
  },
  {
   "cell_type": "code",
   "execution_count": 35,
   "metadata": {},
   "outputs": [],
   "source": [
    "# Function for Vader Metric Analysis\n",
    "def model_metric_analyze(classification, prediction):\n",
    "  ac_score = accuracy_score(classification, prediction)\n",
    "  pr_score = precision_score(classification, prediction, average=\"weighted\")\n",
    "  re_score = recall_score(classification, prediction, average=\"weighted\")\n",
    "  f1_measure = f1_score(classification, prediction, average=\"weighted\")\n",
    "  cf_matrix = confusion_matrix(classification, prediction)\n",
    "\n",
    "  custom_index = ['accuracy', 'precision', 'recall', 'f1', 'cf']\n",
    "  df_scores = pd.Series([ac_score, pr_score, re_score, f1_measure, cf_matrix], index=custom_index)\n",
    "  return df_scores\n",
    "\n",
    "# Function for Outputting Metrics\n",
    "def print_metrics(df_scores):\n",
    "  print(f'Accuracy Score: {df_scores[\"accuracy\"]}')\n",
    "  print(f'Precision Score: {df_scores[\"precision\"]}')\n",
    "  print(f'Recall Score: {df_scores[\"recall\"]}')\n",
    "  print(f'F1 Score: {df_scores[\"f1\"]}')\n",
    "\n",
    "  labels = range(1, 21)\n",
    "  sns.heatmap(df_scores['cf'], annot=True, fmt='d', cmap='flare', xticklabels=labels, yticklabels=labels)\n",
    "  plt.xlabel('Predicted', fontweight='bold', fontsize=15)\n",
    "  plt.ylabel('Actual', fontweight='bold', fontsize=15)\n",
    "  plt.title('Confusion Matrix', fontweight='bold', fontsize=20)\n",
    "  plt.show()"
   ]
  },
  {
   "cell_type": "markdown",
   "metadata": {},
   "source": [
    "<h3>MLP Model w/ Basic Original Dataset</h3>"
   ]
  },
  {
   "cell_type": "markdown",
   "metadata": {},
   "source": [
    "<h4>Training w/ Validation</h4>"
   ]
  },
  {
   "cell_type": "code",
   "execution_count": 18,
   "metadata": {
    "editable": true,
    "slideshow": {
     "slide_type": ""
    },
    "tags": []
   },
   "outputs": [
    {
     "name": "stdout",
     "output_type": "stream",
     "text": [
      "Epoch 1/50\n",
      "11/11 [==============================] - 1s 11ms/step - loss: 3.2635 - accuracy: 0.0377 - val_loss: 2.9213 - val_accuracy: 0.1391\n",
      "Epoch 2/50\n",
      "11/11 [==============================] - 0s 2ms/step - loss: 2.6642 - accuracy: 0.2290 - val_loss: 2.6594 - val_accuracy: 0.2261\n",
      "Epoch 3/50\n",
      "11/11 [==============================] - 0s 2ms/step - loss: 2.2703 - accuracy: 0.4435 - val_loss: 2.4345 - val_accuracy: 0.3739\n",
      "Epoch 4/50\n",
      "11/11 [==============================] - 0s 3ms/step - loss: 1.8977 - accuracy: 0.6696 - val_loss: 2.1958 - val_accuracy: 0.5043\n",
      "Epoch 5/50\n",
      "11/11 [==============================] - 0s 2ms/step - loss: 1.5498 - accuracy: 0.8174 - val_loss: 1.9427 - val_accuracy: 0.6000\n",
      "Epoch 6/50\n",
      "11/11 [==============================] - 0s 2ms/step - loss: 1.2061 - accuracy: 0.9043 - val_loss: 1.6922 - val_accuracy: 0.6957\n",
      "Epoch 7/50\n",
      "11/11 [==============================] - 0s 2ms/step - loss: 0.9013 - accuracy: 0.9565 - val_loss: 1.4646 - val_accuracy: 0.7913\n",
      "Epoch 8/50\n",
      "11/11 [==============================] - 0s 2ms/step - loss: 0.6487 - accuracy: 0.9884 - val_loss: 1.2526 - val_accuracy: 0.8174\n",
      "Epoch 9/50\n",
      "11/11 [==============================] - 0s 2ms/step - loss: 0.4530 - accuracy: 0.9971 - val_loss: 1.0673 - val_accuracy: 0.8435\n",
      "Epoch 10/50\n",
      "11/11 [==============================] - 0s 3ms/step - loss: 0.3126 - accuracy: 0.9971 - val_loss: 0.9297 - val_accuracy: 0.8609\n",
      "Epoch 11/50\n",
      "11/11 [==============================] - 0s 2ms/step - loss: 0.2173 - accuracy: 1.0000 - val_loss: 0.8103 - val_accuracy: 0.8870\n",
      "Epoch 12/50\n",
      "11/11 [==============================] - 0s 2ms/step - loss: 0.1538 - accuracy: 1.0000 - val_loss: 0.7228 - val_accuracy: 0.8957\n",
      "Epoch 13/50\n",
      "11/11 [==============================] - 0s 3ms/step - loss: 0.1132 - accuracy: 1.0000 - val_loss: 0.6590 - val_accuracy: 0.8957\n",
      "Epoch 14/50\n",
      "11/11 [==============================] - 0s 3ms/step - loss: 0.0859 - accuracy: 1.0000 - val_loss: 0.6082 - val_accuracy: 0.8957\n",
      "Epoch 15/50\n",
      "11/11 [==============================] - 0s 2ms/step - loss: 0.0682 - accuracy: 1.0000 - val_loss: 0.5671 - val_accuracy: 0.8957\n",
      "Epoch 16/50\n",
      "11/11 [==============================] - 0s 3ms/step - loss: 0.0551 - accuracy: 1.0000 - val_loss: 0.5344 - val_accuracy: 0.8957\n",
      "Epoch 17/50\n",
      "11/11 [==============================] - 0s 2ms/step - loss: 0.0456 - accuracy: 1.0000 - val_loss: 0.5065 - val_accuracy: 0.9043\n",
      "Epoch 18/50\n",
      "11/11 [==============================] - 0s 2ms/step - loss: 0.0388 - accuracy: 1.0000 - val_loss: 0.4825 - val_accuracy: 0.9043\n",
      "Epoch 19/50\n",
      "11/11 [==============================] - 0s 2ms/step - loss: 0.0332 - accuracy: 1.0000 - val_loss: 0.4627 - val_accuracy: 0.9130\n",
      "Epoch 20/50\n",
      "11/11 [==============================] - 0s 3ms/step - loss: 0.0289 - accuracy: 1.0000 - val_loss: 0.4462 - val_accuracy: 0.9130\n",
      "Epoch 21/50\n",
      "11/11 [==============================] - 0s 2ms/step - loss: 0.0255 - accuracy: 1.0000 - val_loss: 0.4322 - val_accuracy: 0.9130\n",
      "Epoch 22/50\n",
      "11/11 [==============================] - 0s 3ms/step - loss: 0.0226 - accuracy: 1.0000 - val_loss: 0.4186 - val_accuracy: 0.9130\n",
      "Epoch 23/50\n",
      "11/11 [==============================] - 0s 2ms/step - loss: 0.0202 - accuracy: 1.0000 - val_loss: 0.4071 - val_accuracy: 0.9130\n",
      "Epoch 24/50\n",
      "11/11 [==============================] - 0s 2ms/step - loss: 0.0183 - accuracy: 1.0000 - val_loss: 0.3966 - val_accuracy: 0.9217\n",
      "Epoch 25/50\n",
      "11/11 [==============================] - 0s 3ms/step - loss: 0.0165 - accuracy: 1.0000 - val_loss: 0.3870 - val_accuracy: 0.9217\n",
      "Epoch 26/50\n",
      "11/11 [==============================] - 0s 2ms/step - loss: 0.0151 - accuracy: 1.0000 - val_loss: 0.3788 - val_accuracy: 0.9217\n",
      "Epoch 27/50\n",
      "11/11 [==============================] - 0s 2ms/step - loss: 0.0138 - accuracy: 1.0000 - val_loss: 0.3708 - val_accuracy: 0.9217\n",
      "Epoch 28/50\n",
      "11/11 [==============================] - 0s 2ms/step - loss: 0.0127 - accuracy: 1.0000 - val_loss: 0.3642 - val_accuracy: 0.9217\n",
      "Epoch 29/50\n",
      "11/11 [==============================] - 0s 2ms/step - loss: 0.0117 - accuracy: 1.0000 - val_loss: 0.3574 - val_accuracy: 0.9217\n",
      "Epoch 30/50\n",
      "11/11 [==============================] - 0s 2ms/step - loss: 0.0108 - accuracy: 1.0000 - val_loss: 0.3513 - val_accuracy: 0.9217\n",
      "Epoch 31/50\n",
      "11/11 [==============================] - 0s 2ms/step - loss: 0.0101 - accuracy: 1.0000 - val_loss: 0.3456 - val_accuracy: 0.9217\n",
      "Epoch 32/50\n",
      "11/11 [==============================] - 0s 2ms/step - loss: 0.0094 - accuracy: 1.0000 - val_loss: 0.3398 - val_accuracy: 0.9217\n",
      "Epoch 33/50\n",
      "11/11 [==============================] - 0s 2ms/step - loss: 0.0088 - accuracy: 1.0000 - val_loss: 0.3350 - val_accuracy: 0.9217\n",
      "Epoch 34/50\n",
      "11/11 [==============================] - 0s 3ms/step - loss: 0.0082 - accuracy: 1.0000 - val_loss: 0.3301 - val_accuracy: 0.9217\n",
      "Epoch 35/50\n",
      "11/11 [==============================] - 0s 2ms/step - loss: 0.0077 - accuracy: 1.0000 - val_loss: 0.3257 - val_accuracy: 0.9217\n",
      "Epoch 36/50\n",
      "11/11 [==============================] - 0s 2ms/step - loss: 0.0073 - accuracy: 1.0000 - val_loss: 0.3218 - val_accuracy: 0.9217\n",
      "Epoch 37/50\n",
      "11/11 [==============================] - 0s 2ms/step - loss: 0.0069 - accuracy: 1.0000 - val_loss: 0.3178 - val_accuracy: 0.9217\n",
      "Epoch 38/50\n",
      "11/11 [==============================] - 0s 2ms/step - loss: 0.0065 - accuracy: 1.0000 - val_loss: 0.3141 - val_accuracy: 0.9217\n",
      "Epoch 39/50\n",
      "11/11 [==============================] - 0s 2ms/step - loss: 0.0061 - accuracy: 1.0000 - val_loss: 0.3104 - val_accuracy: 0.9217\n",
      "Epoch 40/50\n",
      "11/11 [==============================] - 0s 2ms/step - loss: 0.0058 - accuracy: 1.0000 - val_loss: 0.3073 - val_accuracy: 0.9304\n",
      "Epoch 41/50\n",
      "11/11 [==============================] - 0s 3ms/step - loss: 0.0055 - accuracy: 1.0000 - val_loss: 0.3038 - val_accuracy: 0.9304\n",
      "Epoch 42/50\n",
      "11/11 [==============================] - 0s 2ms/step - loss: 0.0052 - accuracy: 1.0000 - val_loss: 0.3009 - val_accuracy: 0.9304\n",
      "Epoch 43/50\n",
      "11/11 [==============================] - 0s 2ms/step - loss: 0.0050 - accuracy: 1.0000 - val_loss: 0.2980 - val_accuracy: 0.9304\n",
      "Epoch 44/50\n",
      "11/11 [==============================] - 0s 3ms/step - loss: 0.0048 - accuracy: 1.0000 - val_loss: 0.2954 - val_accuracy: 0.9304\n",
      "Epoch 45/50\n",
      "11/11 [==============================] - 0s 2ms/step - loss: 0.0045 - accuracy: 1.0000 - val_loss: 0.2927 - val_accuracy: 0.9304\n",
      "Epoch 46/50\n",
      "11/11 [==============================] - 0s 2ms/step - loss: 0.0043 - accuracy: 1.0000 - val_loss: 0.2901 - val_accuracy: 0.9304\n",
      "Epoch 47/50\n",
      "11/11 [==============================] - 0s 3ms/step - loss: 0.0041 - accuracy: 1.0000 - val_loss: 0.2877 - val_accuracy: 0.9304\n",
      "Epoch 48/50\n",
      "11/11 [==============================] - 0s 2ms/step - loss: 0.0040 - accuracy: 1.0000 - val_loss: 0.2856 - val_accuracy: 0.9304\n",
      "Epoch 49/50\n",
      "11/11 [==============================] - 0s 2ms/step - loss: 0.0038 - accuracy: 1.0000 - val_loss: 0.2832 - val_accuracy: 0.9304\n",
      "Epoch 50/50\n",
      "11/11 [==============================] - 0s 2ms/step - loss: 0.0036 - accuracy: 1.0000 - val_loss: 0.2810 - val_accuracy: 0.9304\n"
     ]
    },
    {
     "data": {
      "text/plain": [
       "<tensorflow.python.keras.callbacks.History at 0x266849a8130>"
      ]
     },
     "execution_count": 18,
     "metadata": {},
     "output_type": "execute_result"
    }
   ],
   "source": [
    "base_model.fit(x_train_pre, one_hot_train, epochs=50, validation_data=(x_val_pre, one_hot_val)) "
   ]
  },
  {
   "cell_type": "markdown",
   "metadata": {},
   "source": [
    "<h4>Evaluating Test Data</h4>"
   ]
  },
  {
   "cell_type": "code",
   "execution_count": 37,
   "metadata": {},
   "outputs": [
    {
     "name": "stdout",
     "output_type": "stream",
     "text": [
      "4/4 [==============================] - 0s 1ms/step - loss: 0.3784 - accuracy: 0.9130\n",
      "test loss, test acc: [0.3784251809120178, 0.9130434989929199]\n"
     ]
    }
   ],
   "source": [
    "base_results = base_model.evaluate(x_test_pre, one_hot_test)\n",
    "print(\"test loss, test acc:\", base_results)"
   ]
  },
  {
   "cell_type": "code",
   "execution_count": 40,
   "metadata": {},
   "outputs": [],
   "source": [
    "# Make Predictions\n",
    "base_predictions = base_model.predict(x_test_pre)"
   ]
  },
  {
   "cell_type": "code",
   "execution_count": 41,
   "metadata": {},
   "outputs": [],
   "source": [
    "# Set To One Column\n",
    "base_predictions_single = np.argmax(base_predictions, axis=1)\n",
    "true_predictions_single = np.argmax(one_hot_test, axis=1)"
   ]
  },
  {
   "cell_type": "code",
   "execution_count": 42,
   "metadata": {},
   "outputs": [
    {
     "name": "stdout",
     "output_type": "stream",
     "text": [
      "Accuracy Score: 0.9130434782608695\n",
      "Precision Score: 0.9260869565217391\n",
      "Recall Score: 0.9130434782608695\n",
      "F1 Score: 0.9111331180896398\n"
     ]
    },
    {
     "data": {
      "image/png": "[encoded data removed]",
      "text/plain": [
       "<Figure size 640x480 with 2 Axes>"
      ]
     },
     "metadata": {},
     "output_type": "display_data"
    }
   ],
   "source": [
    "# Get Metrics\n",
    "print_metrics(model_metric_analyze(base_predictions_single, true_predictions_single))"
   ]
  },
  {
   "cell_type": "markdown",
   "metadata": {},
   "source": [
    "<h3>MLP Model w/ Basic Original Dataset</h3>"
   ]
  },
  {
   "cell_type": "markdown",
   "metadata": {},
   "source": [
    "<h4>Training w/ Validation</h4>"
   ]
  },
  {
   "cell_type": "code",
   "execution_count": 20,
   "metadata": {},
   "outputs": [
    {
     "name": "stdout",
     "output_type": "stream",
     "text": [
      "Epoch 1/50\n",
      "11/11 [==============================] - 0s 9ms/step - loss: 3.5401 - accuracy: 0.0522 - val_loss: 2.9735 - val_accuracy: 0.0696\n",
      "Epoch 2/50\n",
      "11/11 [==============================] - 0s 3ms/step - loss: 2.8348 - accuracy: 0.1478 - val_loss: 2.7140 - val_accuracy: 0.2261\n",
      "Epoch 3/50\n",
      "11/11 [==============================] - 0s 3ms/step - loss: 2.5029 - accuracy: 0.2928 - val_loss: 2.4880 - val_accuracy: 0.3130\n",
      "Epoch 4/50\n",
      "11/11 [==============================] - 0s 3ms/step - loss: 2.1929 - accuracy: 0.4667 - val_loss: 2.2413 - val_accuracy: 0.4783\n",
      "Epoch 5/50\n",
      "11/11 [==============================] - 0s 3ms/step - loss: 1.8584 - accuracy: 0.6493 - val_loss: 2.0021 - val_accuracy: 0.5739\n",
      "Epoch 6/50\n",
      "11/11 [==============================] - 0s 2ms/step - loss: 1.5291 - accuracy: 0.7971 - val_loss: 1.7435 - val_accuracy: 0.6957\n",
      "Epoch 7/50\n",
      "11/11 [==============================] - 0s 3ms/step - loss: 1.1988 - accuracy: 0.9072 - val_loss: 1.4728 - val_accuracy: 0.8000\n",
      "Epoch 8/50\n",
      "11/11 [==============================] - 0s 3ms/step - loss: 0.8909 - accuracy: 0.9507 - val_loss: 1.2202 - val_accuracy: 0.8000\n",
      "Epoch 9/50\n",
      "11/11 [==============================] - 0s 2ms/step - loss: 0.6206 - accuracy: 0.9826 - val_loss: 1.0071 - val_accuracy: 0.8348\n",
      "Epoch 10/50\n",
      "11/11 [==============================] - 0s 3ms/step - loss: 0.4169 - accuracy: 0.9971 - val_loss: 0.8397 - val_accuracy: 0.8870\n",
      "Epoch 11/50\n",
      "11/11 [==============================] - 0s 3ms/step - loss: 0.2730 - accuracy: 1.0000 - val_loss: 0.7095 - val_accuracy: 0.9043\n",
      "Epoch 12/50\n",
      "11/11 [==============================] - 0s 3ms/step - loss: 0.1840 - accuracy: 1.0000 - val_loss: 0.6161 - val_accuracy: 0.9130\n",
      "Epoch 13/50\n",
      "11/11 [==============================] - 0s 2ms/step - loss: 0.1251 - accuracy: 1.0000 - val_loss: 0.5491 - val_accuracy: 0.9217\n",
      "Epoch 14/50\n",
      "11/11 [==============================] - 0s 3ms/step - loss: 0.0915 - accuracy: 1.0000 - val_loss: 0.4967 - val_accuracy: 0.9217\n",
      "Epoch 15/50\n",
      "11/11 [==============================] - 0s 2ms/step - loss: 0.0701 - accuracy: 1.0000 - val_loss: 0.4644 - val_accuracy: 0.9217\n",
      "Epoch 16/50\n",
      "11/11 [==============================] - 0s 2ms/step - loss: 0.0548 - accuracy: 1.0000 - val_loss: 0.4383 - val_accuracy: 0.9391\n",
      "Epoch 17/50\n",
      "11/11 [==============================] - 0s 3ms/step - loss: 0.0446 - accuracy: 1.0000 - val_loss: 0.4112 - val_accuracy: 0.9391\n",
      "Epoch 18/50\n",
      "11/11 [==============================] - 0s 3ms/step - loss: 0.0369 - accuracy: 1.0000 - val_loss: 0.3956 - val_accuracy: 0.9391\n",
      "Epoch 19/50\n",
      "11/11 [==============================] - 0s 3ms/step - loss: 0.0311 - accuracy: 1.0000 - val_loss: 0.3793 - val_accuracy: 0.9478\n",
      "Epoch 20/50\n",
      "11/11 [==============================] - 0s 2ms/step - loss: 0.0267 - accuracy: 1.0000 - val_loss: 0.3662 - val_accuracy: 0.9391\n",
      "Epoch 21/50\n",
      "11/11 [==============================] - 0s 3ms/step - loss: 0.0231 - accuracy: 1.0000 - val_loss: 0.3563 - val_accuracy: 0.9391\n",
      "Epoch 22/50\n",
      "11/11 [==============================] - 0s 2ms/step - loss: 0.0203 - accuracy: 1.0000 - val_loss: 0.3464 - val_accuracy: 0.9391\n",
      "Epoch 23/50\n",
      "11/11 [==============================] - 0s 2ms/step - loss: 0.0179 - accuracy: 1.0000 - val_loss: 0.3387 - val_accuracy: 0.9391\n",
      "Epoch 24/50\n",
      "11/11 [==============================] - 0s 2ms/step - loss: 0.0160 - accuracy: 1.0000 - val_loss: 0.3295 - val_accuracy: 0.9391\n",
      "Epoch 25/50\n",
      "11/11 [==============================] - 0s 3ms/step - loss: 0.0143 - accuracy: 1.0000 - val_loss: 0.3246 - val_accuracy: 0.9391\n",
      "Epoch 26/50\n",
      "11/11 [==============================] - 0s 3ms/step - loss: 0.0129 - accuracy: 1.0000 - val_loss: 0.3209 - val_accuracy: 0.9391\n",
      "Epoch 27/50\n",
      "11/11 [==============================] - 0s 2ms/step - loss: 0.0116 - accuracy: 1.0000 - val_loss: 0.3171 - val_accuracy: 0.9391\n",
      "Epoch 28/50\n",
      "11/11 [==============================] - 0s 3ms/step - loss: 0.0105 - accuracy: 1.0000 - val_loss: 0.3099 - val_accuracy: 0.9391\n",
      "Epoch 29/50\n",
      "11/11 [==============================] - 0s 3ms/step - loss: 0.0096 - accuracy: 1.0000 - val_loss: 0.3062 - val_accuracy: 0.9391\n",
      "Epoch 30/50\n",
      "11/11 [==============================] - 0s 2ms/step - loss: 0.0087 - accuracy: 1.0000 - val_loss: 0.3032 - val_accuracy: 0.9391\n",
      "Epoch 31/50\n",
      "11/11 [==============================] - 0s 3ms/step - loss: 0.0080 - accuracy: 1.0000 - val_loss: 0.3012 - val_accuracy: 0.9391\n",
      "Epoch 32/50\n",
      "11/11 [==============================] - 0s 2ms/step - loss: 0.0074 - accuracy: 1.0000 - val_loss: 0.2976 - val_accuracy: 0.9391\n",
      "Epoch 33/50\n",
      "11/11 [==============================] - 0s 2ms/step - loss: 0.0068 - accuracy: 1.0000 - val_loss: 0.2961 - val_accuracy: 0.9391\n",
      "Epoch 34/50\n",
      "11/11 [==============================] - 0s 2ms/step - loss: 0.0063 - accuracy: 1.0000 - val_loss: 0.2937 - val_accuracy: 0.9391\n",
      "Epoch 35/50\n",
      "11/11 [==============================] - 0s 3ms/step - loss: 0.0059 - accuracy: 1.0000 - val_loss: 0.2883 - val_accuracy: 0.9391\n",
      "Epoch 36/50\n",
      "11/11 [==============================] - 0s 2ms/step - loss: 0.0054 - accuracy: 1.0000 - val_loss: 0.2903 - val_accuracy: 0.9391\n",
      "Epoch 37/50\n",
      "11/11 [==============================] - 0s 2ms/step - loss: 0.0051 - accuracy: 1.0000 - val_loss: 0.2851 - val_accuracy: 0.9391\n",
      "Epoch 38/50\n",
      "11/11 [==============================] - 0s 3ms/step - loss: 0.0048 - accuracy: 1.0000 - val_loss: 0.2861 - val_accuracy: 0.9391\n",
      "Epoch 39/50\n",
      "11/11 [==============================] - 0s 3ms/step - loss: 0.0045 - accuracy: 1.0000 - val_loss: 0.2826 - val_accuracy: 0.9391\n",
      "Epoch 40/50\n",
      "11/11 [==============================] - 0s 3ms/step - loss: 0.0042 - accuracy: 1.0000 - val_loss: 0.2790 - val_accuracy: 0.9391\n",
      "Epoch 41/50\n",
      "11/11 [==============================] - 0s 3ms/step - loss: 0.0040 - accuracy: 1.0000 - val_loss: 0.2814 - val_accuracy: 0.9391\n",
      "Epoch 42/50\n",
      "11/11 [==============================] - 0s 3ms/step - loss: 0.0037 - accuracy: 1.0000 - val_loss: 0.2782 - val_accuracy: 0.9391\n",
      "Epoch 43/50\n",
      "11/11 [==============================] - 0s 3ms/step - loss: 0.0035 - accuracy: 1.0000 - val_loss: 0.2771 - val_accuracy: 0.9391\n",
      "Epoch 44/50\n",
      "11/11 [==============================] - 0s 3ms/step - loss: 0.0033 - accuracy: 1.0000 - val_loss: 0.2758 - val_accuracy: 0.9391\n",
      "Epoch 45/50\n",
      "11/11 [==============================] - 0s 3ms/step - loss: 0.0032 - accuracy: 1.0000 - val_loss: 0.2766 - val_accuracy: 0.9391\n",
      "Epoch 46/50\n",
      "11/11 [==============================] - 0s 3ms/step - loss: 0.0030 - accuracy: 1.0000 - val_loss: 0.2740 - val_accuracy: 0.9391\n",
      "Epoch 47/50\n",
      "11/11 [==============================] - 0s 3ms/step - loss: 0.0029 - accuracy: 1.0000 - val_loss: 0.2731 - val_accuracy: 0.9391\n",
      "Epoch 48/50\n",
      "11/11 [==============================] - 0s 3ms/step - loss: 0.0027 - accuracy: 1.0000 - val_loss: 0.2730 - val_accuracy: 0.9391\n",
      "Epoch 49/50\n",
      "11/11 [==============================] - 0s 3ms/step - loss: 0.0026 - accuracy: 1.0000 - val_loss: 0.2737 - val_accuracy: 0.9391\n",
      "Epoch 50/50\n",
      "11/11 [==============================] - 0s 3ms/step - loss: 0.0025 - accuracy: 1.0000 - val_loss: 0.2696 - val_accuracy: 0.9478\n"
     ]
    },
    {
     "data": {
      "text/plain": [
       "<tensorflow.python.keras.callbacks.History at 0x266977e18e0>"
      ]
     },
     "execution_count": 20,
     "metadata": {},
     "output_type": "execute_result"
    }
   ],
   "source": [
    "k_model.fit(x_train_transf, one_hot_train, epochs=50, validation_data=(x_val_transf, one_hot_val)) "
   ]
  },
  {
   "cell_type": "markdown",
   "metadata": {},
   "source": [
    "<h4>Evaluating Test Data</h4>"
   ]
  },
  {
   "cell_type": "code",
   "execution_count": 43,
   "metadata": {},
   "outputs": [
    {
     "name": "stdout",
     "output_type": "stream",
     "text": [
      "4/4 [==============================] - 0s 1ms/step - loss: 0.3344 - accuracy: 0.8957\n",
      "test loss, test acc: [0.33444955945014954, 0.895652174949646]\n"
     ]
    }
   ],
   "source": [
    "k_results = k_model.evaluate(x_test_transf, one_hot_test)\n",
    "print(\"test loss, test acc:\", k_results)"
   ]
  },
  {
   "cell_type": "code",
   "execution_count": 44,
   "metadata": {},
   "outputs": [],
   "source": [
    "# Get Predictions\n",
    "k_predictions = k_model.predict(x_test_transf)"
   ]
  },
  {
   "cell_type": "code",
   "execution_count": 45,
   "metadata": {},
   "outputs": [],
   "source": [
    "# Set To One Column\n",
    "k_predictions_single = np.argmax(k_predictions, axis=1)"
   ]
  },
  {
   "cell_type": "code",
   "execution_count": 46,
   "metadata": {},
   "outputs": [
    {
     "name": "stdout",
     "output_type": "stream",
     "text": [
      "Accuracy Score: 0.8956521739130435\n",
      "Precision Score: 0.9081335090030743\n",
      "Recall Score: 0.8956521739130435\n",
      "F1 Score: 0.892066267066267\n"
     ]
    },
    {
     "data": {
      "image/png": "[encoded data removed]",
      "text/plain": [
       "<Figure size 640x480 with 2 Axes>"
      ]
     },
     "metadata": {},
     "output_type": "display_data"
    }
   ],
   "source": [
    "# Get Metrics\n",
    "print_metrics(model_metric_analyze(true_predictions_single, k_predictions_single))"
   ]
  },
  {
   "cell_type": "code",
   "execution_count": null,
   "metadata": {},
   "outputs": [],
   "source": []
  }
 ],
 "metadata": {
  "kernelspec": {
   "display_name": "Python 3 (ipykernel)",
   "language": "python",
   "name": "python3"
  },
  "language_info": {
   "codemirror_mode": {
    "name": "ipython",
    "version": 3
   },
   "file_extension": ".py",
   "mimetype": "text/x-python",
   "name": "python",
   "nbconvert_exporter": "python",
   "pygments_lexer": "ipython3",
   "version": "3.9.18"
  }
 },
 "nbformat": 4,
 "nbformat_minor": 4
}
